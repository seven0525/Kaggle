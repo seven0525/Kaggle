{
 "cells": [
  {
   "cell_type": "markdown",
   "metadata": {},
   "source": [
    "# 離散一様分布\n",
    "確率変数Xがn個の値（ x1,x2,x3,…,xn ）を同じ確率でとりうるとき、Xは離散一様分布に従う。\n",
    "\n",
    "f(xi)=1/n"
   ]
  },
  {
   "cell_type": "markdown",
   "metadata": {},
   "source": [
    "## Q サイコロを降ったときに出てくる目の平均と分散をもとめよ"
   ]
  },
  {
   "cell_type": "code",
   "execution_count": 2,
   "metadata": {},
   "outputs": [
    {
     "data": {
      "image/png": "[encoded data removed]",
      "text/plain": [
       "<matplotlib.figure.Figure at 0x104fca4a8>"
      ]
     },
     "metadata": {},
     "output_type": "display_data"
    }
   ],
   "source": [
    "import numpy as np\n",
    "from numpy.random import randn\n",
    "import pandas as pd\n",
    "from scipy import stats\n",
    "import matplotlib as mpl\n",
    "import matplotlib.pyplot as plt\n",
    "import seaborn as sns\n",
    "# もしPython2をつかっているなら。\n",
    "from __future__ import division\n",
    "%matplotlib inline\n",
    "\n",
    "# サイコロの取り得る値\n",
    "roll_options = [1,2,3,4,5,6]\n",
    "\n",
    "# 確率の総和は1です。\n",
    "tprob = 1\n",
    "\n",
    "# 公正なサイコロだったら、どの目も同じ確率で出ます。\n",
    "prob_roll = tprob / len(roll_options)\n",
    "\n",
    "# 描画してみます。\n",
    "uni_plot = plt.bar(roll_options, [prob_roll] * 6)"
   ]
  },
  {
   "cell_type": "code",
   "execution_count": 3,
   "metadata": {},
   "outputs": [
    {
     "name": "stdout",
     "output_type": "stream",
     "text": [
      "平均= 3.5 分散=2.9166666666666665\n"
     ]
    }
   ],
   "source": [
    "from scipy.stats import randint\n",
    "\n",
    "# 最大の手前までなので、7です。\n",
    "low,high = 1,7\n",
    "\n",
    "# このコードで、離散一様分布の平均と分散を計算できます。\n",
    "mean,var = randint.stats(low,high)\n",
    "print('平均= {} 分散={}'.format(mean, var))"
   ]
  },
  {
   "cell_type": "code",
   "execution_count": null,
   "metadata": {},
   "outputs": [],
   "source": []
  },
  {
   "cell_type": "markdown",
   "metadata": {},
   "source": [
    "# 連続一様分布\n",
    "離散一様分布のうち、一定以上の結果が起こる確率\n",
    "\n",
    "変数\n",
    "- 可能性のある下限\n",
    "- 可能性のある上限\n",
    "- 求めたい範囲の最小の値\n"
   ]
  },
  {
   "cell_type": "markdown",
   "metadata": {},
   "source": [
    "## Q　客が２５分以上タクシーに乗車する確率はどれくらいか？\n",
    "ニューヨーク市での平均的なタクシーの乗車時間は22分くらいであることが知られています。\n",
    "調査の結果、この乗車時間が、19分から27分の間の連続的な一様分布に従うことが分かったとします。\n",
    "客が25分以上タクシーに乗車する確率はどれくらいでしょう？"
   ]
  },
  {
   "cell_type": "code",
   "execution_count": 8,
   "metadata": {},
   "outputs": [
    {
     "name": "stdout",
     "output_type": "stream",
     "text": [
      "乗車時間が少なくとも25分かかる確率は25.0%\n"
     ]
    }
   ],
   "source": [
    "# 乗車時間の下限\n",
    "min_time = 19\n",
    "\n",
    "# 上限\n",
    "max_time = 27\n",
    "\n",
    "# 乗車時間が25分までに収まる確率は、\n",
    "f25 = (25-19)/(max_time-min_time)\n",
    "\n",
    "# 少なくても25分以上乗る確率は、\n",
    "ans = 1-f25\n",
    "\n",
    "print('乗車時間が少なくとも25分かかる確率は{}%'.format(100*ans))"
   ]
  },
  {
   "cell_type": "code",
   "execution_count": null,
   "metadata": {},
   "outputs": [],
   "source": []
  },
  {
   "cell_type": "markdown",
   "metadata": {},
   "source": [
    "# 二項分布\n",
    "平均成功率OO％の人が、平均以上の一定の成果を出す確率はどれくらいか？<br>\n",
    "（確率低くても数打てるほうが良いのかどうか判断）\n",
    "\n",
    "変数\n",
    "- 平均成功率\n",
    "- 何回繰り返すのか\n",
    "- 達成したい目標（点数）"
   ]
  },
  {
   "cell_type": "markdown",
   "metadata": {},
   "source": [
    "## Q 1試合で6点ゴールを決める確率が高いのは、プレイヤーAかプレイヤーBか？\n",
    "プレイヤーAとプレイヤーBの2人が、バスケットボールをします。<br>\n",
    "Aは1ゲームで平均11回シュートをして、平均的な成功率は72％です。<br>\n",
    "一方、Bは15回シュートをしますが、平均的に48%しか決まりません。"
   ]
  },
  {
   "cell_type": "code",
   "execution_count": 10,
   "metadata": {},
   "outputs": [
    {
     "name": "stdout",
     "output_type": "stream",
     "text": [
      "プレイヤーAが平均的な試合で6回シュートを決める確率は11.08% \n",
      "\n",
      "プレイヤーBが平均的な試合で6回シュートを決める確率は17.02%\n"
     ]
    },
    {
     "name": "stderr",
     "output_type": "stream",
     "text": [
      "/anaconda3/lib/python3.6/site-packages/ipykernel_launcher.py:15: DeprecationWarning: `comb` is deprecated!\n",
      "Importing `comb` from scipy.misc is deprecated in scipy 1.0.0. Use `scipy.special.comb` instead.\n",
      "  from ipykernel import kernelapp as app\n",
      "/anaconda3/lib/python3.6/site-packages/ipykernel_launcher.py:16: DeprecationWarning: `comb` is deprecated!\n",
      "Importing `comb` from scipy.misc is deprecated in scipy 1.0.0. Use `scipy.special.comb` instead.\n",
      "  app.launch_new_instance()\n"
     ]
    }
   ],
   "source": [
    "# 成功率\n",
    "p_A = .72\n",
    "p_B = .48\n",
    "\n",
    "# シュートの数\n",
    "n_A = 11\n",
    "n_B = 15\n",
    "\n",
    "# 成功数\n",
    "k = 6\n",
    "\n",
    "# 組み合わせを求めるため\n",
    "import scipy.misc as sc\n",
    "\n",
    "comb_A = sc.comb(n_A,k)\n",
    "comb_B = sc.comb(n_B,k)\n",
    "\n",
    "# これらを掛け合わせれば、確率がでます。\n",
    "answer_A = comb_A * (p_A**k) * ((1-p_A)**(n_A-k))\n",
    "answer_B = comb_B * (p_B**k) * ((1-p_B)**(n_B-k))\n",
    "# パーセントで結果を格納しておきます。\n",
    "answer_A = 100*answer_A\n",
    "answer_B = 100 * answer_B\n",
    "\n",
    "print('プレイヤーAが平均的な試合で6回シュートを決める確率は{:0.2f}% '.format(answer_A))\n",
    "print('')\n",
    "print('プレイヤーBが平均的な試合で6回シュートを決める確率は{:0.2f}%'.format(answer_B))"
   ]
  },
  {
   "cell_type": "code",
   "execution_count": 19,
   "metadata": {},
   "outputs": [
    {
     "name": "stdout",
     "output_type": "stream",
     "text": [
      "プレイヤーAが平均的な試合で6回以上シュートを決める確率は94.23% \n",
      "\n",
      "プレイヤーBが平均的な試合で6回以上シュートを決める確率は80.96%\n"
     ]
    },
    {
     "name": "stderr",
     "output_type": "stream",
     "text": [
      "/anaconda3/lib/python3.6/site-packages/ipykernel_launcher.py:6: DeprecationWarning: `comb` is deprecated!\n",
      "Importing `comb` from scipy.misc is deprecated in scipy 1.0.0. Use `scipy.special.comb` instead.\n",
      "  \n",
      "/anaconda3/lib/python3.6/site-packages/ipykernel_launcher.py:7: DeprecationWarning: `comb` is deprecated!\n",
      "Importing `comb` from scipy.misc is deprecated in scipy 1.0.0. Use `scipy.special.comb` instead.\n",
      "  import sys\n"
     ]
    }
   ],
   "source": [
    "# ６回以上決める確率は？\n",
    "answers_A = []\n",
    "answers_B = []\n",
    "\n",
    "for k in range(1,6):\n",
    "    comb_A = sc.comb(n_A,k)\n",
    "    comb_B = sc.comb(n_B, k)\n",
    "    \n",
    "    answer_A = comb_A * (p_A**k) * ((1-p_A)**(n_A-k))\n",
    "    answer_B = comb_B * (p_B**k) * ((1-p_B)**(n_B-k))\n",
    "    \n",
    "    answer_A = 100*answer_A\n",
    "    answer_B = 100 * answer_B\n",
    "    \n",
    "    answers_A.append(answer_A)\n",
    "    answers_B.append(answer_B)\n",
    "    \n",
    "\n",
    "answer_A = 100 - sum(answers_A)\n",
    "answer_B = 100 - sum(answers_B)\n",
    "\n",
    "\n",
    "print('プレイヤーAが平均的な試合で6回以上シュートを決める確率は{:0.2f}% '.format(answer_A))\n",
    "print('')\n",
    "print('プレイヤーBが平均的な試合で6回以上シュートを決める確率は{:0.2f}%'.format(answer_B))\n"
   ]
  },
  {
   "cell_type": "code",
   "execution_count": 20,
   "metadata": {},
   "outputs": [
    {
     "name": "stdout",
     "output_type": "stream",
     "text": [
      "プレイヤーAは1試合で、平均7.9回±1.5シュートを決めます。\n",
      "\n",
      "\n",
      "プレイヤーBは1試合で、平均7.2回±1.9シュートを決めます。\n"
     ]
    }
   ],
   "source": [
    "# 平均値です。\n",
    "mu_A = n_A *p_A\n",
    "mu_B = n_B *p_B\n",
    "\n",
    "# 標準偏差を計算しましょう。\n",
    "sigma_A = ( n_A *p_A*(1-p_A) )**0.5\n",
    "sigma_B = ( n_B *p_B*(1-p_B) )**0.5\n",
    "\n",
    "print('プレイヤーAは1試合で、平均{:0.1f}回±{:0.1f}シュートを決めます。'.format(mu_A,sigma_A))\n",
    "print('\\n')\n",
    "print('プレイヤーBは1試合で、平均{:0.1f}回±{:0.1f}シュートを決めます。'.format(mu_B,sigma_B))"
   ]
  },
  {
   "cell_type": "code",
   "execution_count": null,
   "metadata": {},
   "outputs": [],
   "source": []
  },
  {
   "cell_type": "markdown",
   "metadata": {},
   "source": [
    "# ポアソン分布\n",
    "二項分布と似ている（同じ確率の同じ作業をずっと繰り返すわけではない）<br>\n",
    "平均的な期待値をもとに、それ以上やそれ以下の結果が起きる確率を予測\n",
    "\n",
    "変数\n",
    "- 期待値（λ）\n",
    "- 予測したい値\n"
   ]
  },
  {
   "cell_type": "markdown",
   "metadata": {},
   "source": [
    "## Q今日お昼のマックに7人または11人客が来る確率はどれくらいか？\n",
    "マクドナルドのランチのピークは、12:30から1:00の間です。<br>\n",
    "これまでの経験から、平均で10人のお客さんが、この時間帯に来店することが分かっています。<br>\n",
    "それでは、ちょうど7人のお客さんが来店する確率はどれくらいでしょうか？<br>\n",
    " また、10人より多いお客さんが来る確率はどれくらいでしょうか？"
   ]
  },
  {
   "cell_type": "code",
   "execution_count": 22,
   "metadata": {},
   "outputs": [
    {
     "name": "stdout",
     "output_type": "stream",
     "text": [
      " 昼のピーク時にお客さんが7人である確率は、9.01%です。\n"
     ]
    }
   ],
   "source": [
    "# 　期待値λをセット\n",
    "lamb = 10\n",
    "\n",
    "# ちょうど7人来る確率を計算したいので、k=7です。\n",
    "k=7\n",
    "\n",
    "# 標準mathモジュールから、必要なモノをインポート\n",
    "from math import exp\n",
    "from math import factorial\n",
    "\n",
    "# 確率質量関数をつかって確率を計算します。\n",
    "prob = (lamb**k)*exp(-lamb)/factorial(k)\n",
    "\n",
    "print(' 昼のピーク時にお客さんが7人である確率は、{:0.2f}%です。'.format(100*prob))"
   ]
  },
  {
   "cell_type": "code",
   "execution_count": 24,
   "metadata": {},
   "outputs": [
    {
     "name": "stdout",
     "output_type": "stream",
     "text": [
      "10人より多くのお客さんが来る確率は、41.70%です。\n"
     ]
    }
   ],
   "source": [
    "# 11人以上来る確率を予測\n",
    "from scipy.stats import poisson\n",
    "\n",
    "# お客さんが10人までの確率を計算するので、k = 10です。平均値もおなじく10\n",
    "k,mu = 10,10\n",
    "\n",
    "# お客さんが10人までの確率を次のコードで計算できます。\n",
    "prob_up_to_ten = poisson.cdf(k,mu)\n",
    "\n",
    "#答え\n",
    "prob_more_than_ten = 1 - prob_up_to_ten\n",
    "\n",
    "print('10人より多くのお客さんが来る確率は、{:0.2f}%です。'.format(100*prob_more_than_ten))"
   ]
  },
  {
   "cell_type": "code",
   "execution_count": null,
   "metadata": {},
   "outputs": [],
   "source": []
  },
  {
   "cell_type": "markdown",
   "metadata": {},
   "source": [
    "# 正規分布\n",
    "そのまんま\n",
    "\n",
    "変数\n",
    "- 平均\n",
    "- 標準偏差\n",
    "- サンプルの個数"
   ]
  },
  {
   "cell_type": "markdown",
   "metadata": {},
   "source": [
    "## Q平均0,標準偏差０．５でランダムな数値を生成するモデルを1000回動かすと、どのようなグラフになるか？"
   ]
  },
  {
   "cell_type": "code",
   "execution_count": 31,
   "metadata": {},
   "outputs": [
    {
     "data": {
      "text/plain": [
       "(array([ 1.,  1.,  1.,  0.,  0.,  0.,  2.,  0.,  0.,  5.,  3.,  3.,  2.,\n",
       "         3.,  6.,  4.,  6.,  3.,  7.,  5.,  4.,  4.,  9.,  4., 11., 16.,\n",
       "         8.,  4.,  9., 14., 15., 11., 12., 17., 13., 14., 21., 16., 12.,\n",
       "        18., 17., 14., 19., 12., 24., 27., 24., 24., 22., 23., 23., 29.,\n",
       "        28., 20., 29., 23., 22., 21.,  7., 23., 22., 24., 24., 11., 16.,\n",
       "        13., 15.,  8., 17., 15., 13.,  8.,  6., 12.,  9.,  4.,  5.,  6.,\n",
       "         4.,  7.,  5.,  4.,  3.,  4.,  4.,  2.,  4.,  0.,  5.,  1.,  1.,\n",
       "         2.,  3.,  2.,  1.,  0.,  1.,  1.,  1.,  2.]),\n",
       " array([-0.2801558 , -0.27448373, -0.26881167, -0.2631396 , -0.25746754,\n",
       "        -0.25179547, -0.24612341, -0.24045135, -0.23477928, -0.22910722,\n",
       "        -0.22343515, -0.21776309, -0.21209102, -0.20641896, -0.20074689,\n",
       "        -0.19507483, -0.18940276, -0.1837307 , -0.17805863, -0.17238657,\n",
       "        -0.1667145 , -0.16104244, -0.15537037, -0.14969831, -0.14402624,\n",
       "        -0.13835418, -0.13268212, -0.12701005, -0.12133799, -0.11566592,\n",
       "        -0.10999386, -0.10432179, -0.09864973, -0.09297766, -0.0873056 ,\n",
       "        -0.08163353, -0.07596147, -0.0702894 , -0.06461734, -0.05894527,\n",
       "        -0.05327321, -0.04760114, -0.04192908, -0.03625701, -0.03058495,\n",
       "        -0.02491289, -0.01924082, -0.01356876, -0.00789669, -0.00222463,\n",
       "         0.00344744,  0.0091195 ,  0.01479157,  0.02046363,  0.0261357 ,\n",
       "         0.03180776,  0.03747983,  0.04315189,  0.04882396,  0.05449602,\n",
       "         0.06016809,  0.06584015,  0.07151222,  0.07718428,  0.08285634,\n",
       "         0.08852841,  0.09420047,  0.09987254,  0.1055446 ,  0.11121667,\n",
       "         0.11688873,  0.1225608 ,  0.12823286,  0.13390493,  0.13957699,\n",
       "         0.14524906,  0.15092112,  0.15659319,  0.16226525,  0.16793732,\n",
       "         0.17360938,  0.17928144,  0.18495351,  0.19062557,  0.19629764,\n",
       "         0.2019697 ,  0.20764177,  0.21331383,  0.2189859 ,  0.22465796,\n",
       "         0.23033003,  0.23600209,  0.24167416,  0.24734622,  0.25301829,\n",
       "         0.25869035,  0.26436242,  0.27003448,  0.27570655,  0.28137861,\n",
       "         0.28705067]),\n",
       " <a list of 100 Patch objects>)"
      ]
     },
     "execution_count": 31,
     "metadata": {},
     "output_type": "execute_result"
    },
    {
     "data": {
      "image/png": "[encoded data removed]",
      "text/plain": [
       "<matplotlib.figure.Figure at 0x1a1650fda0>"
      ]
     },
     "metadata": {},
     "output_type": "display_data"
    }
   ],
   "source": [
    "import numpy as np\n",
    "\n",
    "# 平均と標準偏差の値を入力\n",
    "mu,sigma = 0,0.1\n",
    "\n",
    "# 正規分布に従う乱数を1000個生成します。\n",
    "norm_set = np.random.normal(mu,sigma,1000)\n",
    "\n",
    "# seabornを使ってプロットしてみましょう。\n",
    "import seaborn as sns\n",
    "\n",
    "plt.hist(norm_set,bins=100)"
   ]
  },
  {
   "cell_type": "code",
   "execution_count": null,
   "metadata": {},
   "outputs": [],
   "source": []
  },
  {
   "cell_type": "markdown",
   "metadata": {},
   "source": [
    "#  ベイズの定理\n",
    "Bが起こったという条件のもとで、Aが起こる確率を求める\n",
    "\n",
    "\n",
    "変数\n",
    "- Aが起こる確率 \n",
    "\n",
    "- Aが起きたときに、Bが起きる確率\n",
    "\n"
   ]
  },
  {
   "cell_type": "markdown",
   "metadata": {},
   "source": [
    "## Q クッキー問題\n",
    "\n",
    "ボールが2つあって、それぞれにクッキーが40個入っています。<br>\n",
    "\n",
    "- ボール1には、バニラクッキーが30個、チョコレートクッキーが10個\n",
    "- ボール2には、バニラとチョコレートが20個ずつ\n",
    "<br>\n",
    "\n",
    "目を閉じて、どちらかのボールから、クッキーを1つ取り出しました。このクッキーがバニラだったとき、ボール1を選んだ確率は？"
   ]
  },
  {
   "cell_type": "code",
   "execution_count": 34,
   "metadata": {},
   "outputs": [
    {
     "name": "stdout",
     "output_type": "stream",
     "text": [
      "クッキーがバニラだったとき、ボール1を選んだ確率は60.0%\n"
     ]
    }
   ],
   "source": [
    "# ボールAを選ぶ確率\n",
    "x_a = 1/2\n",
    "\n",
    "# ボールAを選んだときに、バニラクッキーを選ぶ確率\n",
    "x_b = 3/4\n",
    "\n",
    "#バニラクッキーを選ぶ確率\n",
    "x_c = 5/8\n",
    "\n",
    "answer = x_a * x_b / x_c\n",
    "\n",
    "print(\"クッキーがバニラだったとき、ボール1を選んだ確率は{}%\".format(answer * 100) )"
   ]
  },
  {
   "cell_type": "markdown",
   "metadata": {},
   "source": [
    "## Q Irisをベイズの定理を使って分類せよ\n",
    "\n",
    "X（特徴量ら）からY(特定のクラス)に属している確率を直接算出できる。"
   ]
  },
  {
   "cell_type": "code",
   "execution_count": 37,
   "metadata": {},
   "outputs": [
    {
     "name": "stderr",
     "output_type": "stream",
     "text": [
      "/anaconda3/lib/python3.6/site-packages/sklearn/cross_validation.py:41: DeprecationWarning: This module was deprecated in version 0.18 in favor of the model_selection module into which all the refactored classes and functions are moved. Also note that the interface of the new CV iterators are different from that of this module. This module will be removed in 0.20.\n",
      "  \"This module will be removed in 0.20.\", DeprecationWarning)\n"
     ]
    }
   ],
   "source": [
    "import pandas as pd\n",
    "from pandas import Series,DataFrame\n",
    "\n",
    "import matplotlib.pyplot as plt\n",
    "import seaborn as sns\n",
    "from sklearn.cross_validation import train_test_split\n",
    "\n",
    "# Gaussian Naive Bayes のためのコード\n",
    "from sklearn import datasets\n",
    "from sklearn import metrics\n",
    "from sklearn.naive_bayes import GaussianNB"
   ]
  },
  {
   "cell_type": "code",
   "execution_count": 38,
   "metadata": {},
   "outputs": [
    {
     "name": "stdout",
     "output_type": "stream",
     "text": [
      "1.0\n"
     ]
    }
   ],
   "source": [
    "iris = datasets.load_iris()\n",
    "X = iris.data\n",
    "Y = iris.target\n",
    "\n",
    "model = GaussianNB()\n",
    "X_train, X_test, Y_train, Y_test = train_test_split(X, Y, random_state=0)\n",
    "\n",
    "model.fit(X_train,Y_train)\n",
    "predicted = model.predict(X_test)\n",
    "\n",
    "expected = Y_test\n",
    "\n",
    "print(metrics.accuracy_score(expected, predicted))\n"
   ]
  },
  {
   "cell_type": "code",
   "execution_count": null,
   "metadata": {},
   "outputs": [],
   "source": []
  }
 ],
 "metadata": {
  "kernelspec": {
   "display_name": "Python 3",
   "language": "python",
   "name": "python3"
  },
  "language_info": {
   "codemirror_mode": {
    "name": "ipython",
    "version": 3
   },
   "file_extension": ".py",
   "mimetype": "text/x-python",
   "name": "python",
   "nbconvert_exporter": "python",
   "pygments_lexer": "ipython3",
   "version": "3.6.4"
  }
 },
 "nbformat": 4,
 "nbformat_minor": 2
}
