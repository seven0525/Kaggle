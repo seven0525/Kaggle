{
  "cells": [
    {
      "metadata": {
        "_uuid": "8f2839f25d086af736a60e9eeb907d3b93b6e0e5",
        "_cell_guid": "b1076dfc-b9ad-4769-8c92-a6c4dae69d19",
        "trusted": true
      },
      "cell_type": "code",
      "source": "import numpy as np # linear algebra\nimport pandas as pd # data processing, CSV file I/O (e.g. pd.read_csv)\nimport os\nprint(os.listdir(\"../input\"))\nimport lightgbm as lgb\n\ndf_train = pd.read_csv(\"../input/train.csv\")\ndf_test = pd.read_csv(\"../input/test.csv\")\n\n\n# Any results you write to the current directory are saved as output.",
      "execution_count": null,
      "outputs": []
    },
    {
      "metadata": {
        "trusted": true,
        "_uuid": "330f46f8069e9cec92031d063f3104d334213d14"
      },
      "cell_type": "code",
      "source": "# # 相関係数の確認\n# df = df_train\n# corr_mat = df.corr(method='pearson')\n# corr_mat\n\ndf_train[\"Title\"] = df_train.Name.str.extract(\"([A-Za-z]+)\\.\", expand=False)\ndf_test[\"Title\"] = df_test.Name.str.extract(\"([A-Za-z]+)\\.\", expand=False)\n\n#Titleから新しい特徴量を追加\ndef title_to_num(title):\n    if title == \"Master\":\n        return 1\n    elif title == \"Miss\":\n        return 2\n    elif title == \"Mr\":\n        return 3\n    elif title == \"Mrs\":\n        return 4\n    else:\n        return 5\n    \ndf_train[\"Title_num\"]=[title_to_num(i) for i in df_train[\"Title\"]]\ndf_test[\"Title_num\"]=[title_to_num(i) for i in df_test[\"Title\"]]\n\ndf_train.head()\n\n# corr_mat = df_train.corr(method='pearson')\n# corr_mat\n",
      "execution_count": null,
      "outputs": []
    },
    {
      "metadata": {
        "_cell_guid": "79c7e3d0-c299-4dcb-8224-4455121ee9b0",
        "_uuid": "d629ff2d2480ee46fbb7e2d37f6b5fab8052498a",
        "trusted": true
      },
      "cell_type": "code",
      "source": "#年齢の補完(nameTitleを使ってやるとなお良いと思う)\n#Ageがnullの場合に、　Pclassに応じてAgeに代入する関数\n\n#PclassごとにAgeの平均を算出\nprint(df_train.groupby(\"Title_num\").mean()[\"Age\"])\n\ndef impute_age(cols):\n    Age = cols[0]\n    Title_num = cols[1]\n    Pclass = cols[2]\n    \n    if pd.isnull(Age):\n        if Title_num == 1:\n            return 4.6\n        elif Title_num == 2:\n            return 21.8\n        elif Title_num == 3:\n            return 32.4\n        elif Title_num == 4:\n            return 35.9\n        elif Title_num == 5:\n            if Pclass == 1:\n                return 39\n            elif Pclass == 2:\n                return 30\n            else:\n                return 25\n    else:\n        return Age\n    \ndf_train[\"Age\"] = df_train[[\"Age\", \"Title_num\", \"Pclass\"]].apply(impute_age, axis = 1)\ndf_test[\"Age\"] = df_test[[\"Age\", \"Title_num\", \"Pclass\"]].apply(impute_age, axis = 1)\n",
      "execution_count": null,
      "outputs": []
    },
    {
      "metadata": {
        "trusted": true,
        "_uuid": "b4370f6a7586ca617c5a66a7ac783f55eb3eb9de"
      },
      "cell_type": "code",
      "source": "#乗港した港の補完\ndf_train[df_train[\"Embarked\"].isnull()]\n# 同じticket番号の人他にいないか確認\ndf_test[df_test[\"Embarked\"]==\"113572\"]\n#一番多いSで埋める\ndf_train.loc[df_train[\"PassengerId\"].isin([62,830]),\"Embarked\"]=\"S\"\ndf_train.loc[df_train[\"PassengerId\"].isin([62,830])]",
      "execution_count": null,
      "outputs": []
    },
    {
      "metadata": {
        "trusted": true,
        "_uuid": "cc44f35c11788d3bffb3a1869137b4d54b20162f"
      },
      "cell_type": "code",
      "source": "# 運賃の補完\ndf_train[[\"Pclass\",\"Fare\"]].groupby(\"Pclass\").mean()\n\ndf_test[df_test[\"Fare\"].isnull()]\n\ndf_test.loc[df_test[\"PassengerId\"]==1044,\"Fare\"]=13.675550\ndf_test.loc[df_test[\"PassengerId\"]==1044]",
      "execution_count": null,
      "outputs": []
    },
    {
      "metadata": {
        "trusted": true,
        "_uuid": "89a61ca505741e0f484c4ea52e221498d4f2456b"
      },
      "cell_type": "code",
      "source": "#性別のダミー変数化\ndf_train = pd.get_dummies(df_train, columns=[\"Sex\"])\ndf_test = pd.get_dummies(df_test, columns=[\"Sex\"])\n\n# Embarkedはダミー変数ではなくて、数値に置き換え\n# df_train = pd.get_dummies(df_train, columns=[\"Embarked\"])\n# df_test = pd.get_dummies(df_test, columns=[\"Embarked\"])\ndf_train[\"Embarked\"] = df_train[\"Embarked\"].map({\"S\":0,\"C\":1,\"Q\":2}).astype(int)\ndf_test[\"Embarked\"] = df_test[\"Embarked\"].map({\"S\":0,\"C\":1,\"Q\":2}).astype(int)\n\ndf_train.head()",
      "execution_count": null,
      "outputs": []
    },
    {
      "metadata": {
        "trusted": true,
        "_uuid": "4dba0e57a922e82e383db190c4fb2b11ca939ea9"
      },
      "cell_type": "code",
      "source": "# # AgeとFareをカテゴリ変数化\ndata = [df_train, df_test]\nfor df in data:\n    #Ageのカテゴリ変数化\n    df.loc[df[\"Age\"] <= 16, \"Age\"] = 0\n    df.loc[(df[\"Age\"] > 16) & (df[\"Age\"] <= 32), \"Age\"] = 1\n    df.loc[(df[\"Age\"] > 32) & (df[\"Age\"] <= 48), \"Age\"] = 2\n    df.loc[df[\"Age\"] > 48, \"Age\"] = 3\n    df[\"Age\"] = df[\"Age\"].astype(\"int\")\n    #Fareのカテゴリ変数化\n    df.loc[df[\"Fare\"] <= 7.91, \"Fare\"] = 0\n    df.loc[(df[\"Fare\"] > 7.91) & (df[\"Fare\"] <= 14.454), \"Fare\"] = 1\n    df.loc[(df[\"Fare\"] > 14.454) & (df[\"Fare\"] <= 31), \"Fare\"] = 2\n    df.loc[df[\"Fare\"] > 31, \"Fare\"] = 3\n    df[\"Fare\"] = df[\"Fare\"].astype(\"int\")\n    \n    #FamilySizeとIsAloneの作成\n    df[\"FamilySize\"] = df[\"SibSp\"] + df[\"Parch\"] +1\n    df[\"IsAlone\"] = 0\n    df.loc[df[\"FamilySize\"] == 1, \"IsAlone\"] = 1\n    \ndf_train.head()",
      "execution_count": null,
      "outputs": []
    },
    {
      "metadata": {
        "trusted": true,
        "_uuid": "6846df69442740616a401ec02cc25fafacc44661"
      },
      "cell_type": "code",
      "source": "df_train.drop([\"Name\",\"Cabin\",\"Ticket\",\"SibSp\",\"Parch\", \"Title\"], axis=1, inplace=True)\ndf_test.drop([\"Name\",\"Cabin\",\"Ticket\",\"SibSp\",\"Parch\", \"Title\"], axis=1, inplace=True)\n\ndf_train.head()",
      "execution_count": null,
      "outputs": []
    },
    {
      "metadata": {
        "trusted": true,
        "_uuid": "dc41491920912363d094dac1d59a529f2da90f57"
      },
      "cell_type": "code",
      "source": "X_train = df_train.drop([\"PassengerId\", \"Survived\"], axis=1)\nY_train = df_train[\"Survived\"]\nX_test = df_test.drop(\"PassengerId\", axis=1).copy()",
      "execution_count": null,
      "outputs": []
    },
    {
      "metadata": {
        "trusted": true,
        "_uuid": "4cd59fb43b92e3035d94e99577365cc67d810df9"
      },
      "cell_type": "code",
      "source": "# #グリッドサーチの範囲を指定\n# from sklearn.model_selection import GridSearchCV\n# from sklearn.ensemble import RandomForestClassifier\n# import sklearn \n\n# parameters = {\n#     \"n_estimators\":[i for i in range(10,100,10)],\n#     \"criterion\":[\"gini\",\"entropy\"],\n#     \"max_depth\":[i for i in range(1,6,1)],\n#      'min_samples_split': [2, 4, 10,12,16],\n#     \"random_state\":[3],\n# }\n# #モデルを作成\n# clf = sklearn.model_selection.GridSearchCV(RandomForestClassifier(), parameters,cv=5,n_jobs=-1)\n# clf_fit=clf.fit(X_train, Y_train)\n# #最も良い学習モデルで学習\n# predictor=clf_fit.best_estimator_\n\n",
      "execution_count": null,
      "outputs": []
    },
    {
      "metadata": {
        "trusted": true,
        "_uuid": "42a51583a80e4bb521c111d8352a72e34218450d"
      },
      "cell_type": "code",
      "source": "",
      "execution_count": null,
      "outputs": []
    },
    {
      "metadata": {
        "trusted": true,
        "_uuid": "18ffafb4fa6749bfe24db6042218addaff0a937a"
      },
      "cell_type": "code",
      "source": "# k分割交差検証を用いて学習\nfrom sklearn.model_selection import KFold\nfrom sklearn.metrics import accuracy_score\n\nkf = KFold(n_splits=3)\n\nscores = []\n\n# for train_index, test_index in kf.split(X_train, Y_train):\n#     X_cv_train = X_train.iloc[train_index]\n#     X_cv_test = X_train.iloc[test_index]\n#     Y_cv_train = Y_train.iloc[train_index]\n#     Y_cv_test = Y_train.iloc[test_index]\n#     forest = RandomForestClassifier(random_state=1)\n#     forest.fit(X_cv_train, Y_cv_train)\n#     predictions = forest.predict(X_cv_test)\n#     score = round(accuracy_score(Y_cv_test, forest.predict(X_cv_test))*100, 2)\n#     scores.append(score)\n#     print(score)\n\nfor train_index, test_index in kf.split(X_train, Y_train):\n    X_cv_train = X_train.iloc[train_index]\n    X_cv_test = X_train.iloc[test_index]\n    Y_cv_train = Y_train.iloc[train_index]\n    Y_cv_test = Y_train.iloc[test_index]\n    \n    #識別器を作成\n    gbm = lgb.LGBMClassifier(objective=\"binary\",\n                             learning_rate=0.1, \n                             max_depth=2, \n                             n_estimators=1500, \n                             num_leaves=300\n                            )\n    #学習\n    gbm.fit(X_cv_train, Y_cv_train,\n           eval_set = [(X_cv_test, Y_cv_test)],\n           early_stopping_rounds=10,)\n    \n    #予測し制度を表示\n    Y_pred = gbm.predict(X_cv_test, num_iteration=gbm.best_iteration_)\n    score = round(accuracy_score(Y_cv_test, Y_pred)*100, 2)\n    scores.append(score)\n    \nprint(sum(scores) / 3)",
      "execution_count": null,
      "outputs": []
    },
    {
      "metadata": {
        "trusted": true,
        "_uuid": "9803b1a82297afb7baf71ae4c4d1b09afd870b44"
      },
      "cell_type": "code",
      "source": "grid_param ={'n_estimators':[1500,1000],\n             'max_depth':[3,2],\n             'num_leaves':[300,350],\n             'learning_rate':[0.1,0.15]\n            }\n\nfit_params={'early_stopping_rounds':10, \n            'eval_metric' : 'rmse', \n            'eval_set' : [(X_train, Y_train)]\n           }\nbst_gs_cv = GridSearchCV(\n            lgb.LGBMClassifier(), # 識別器\n            grid_param, # 最適化したいパラメータセット \n            cv = KFold(n_splits=3, shuffle=True), # 交差検定の回数\n            scoring = 'neg_mean_squared_error',\n            verbose = 0\n            )\n\nbst_gs_cv.fit(X_train, Y_train,**fit_params,verbose = 0)\n\nbest_param = bst_gs_cv.best_params_\nprint('Best parameter: {}'.format(best_param))",
      "execution_count": null,
      "outputs": []
    },
    {
      "metadata": {
        "trusted": true,
        "_uuid": "d07aecc5099ee4f3466e33c9a91a7e1853621314"
      },
      "cell_type": "code",
      "source": "# 特徴量の重要度を確認\nfor i,k in zip(X_train.columns,gbm.feature_importances_):\n    print(i,round(k,4))",
      "execution_count": null,
      "outputs": []
    },
    {
      "metadata": {
        "trusted": true,
        "_uuid": "1cafc27dba593b3a8b77f5d0b7e5622a1e193ce6"
      },
      "cell_type": "code",
      "source": "#提出\nY_prediction = gbm.predict(X_test)\nsubmission = pd.DataFrame({\n    \"PassengerId\": df_test[\"PassengerId\"],\n    \"Survived\": Y_prediction\n    })\nsubmission.to_csv(\"lgb_submission.csv\", index=False)",
      "execution_count": null,
      "outputs": []
    },
    {
      "metadata": {
        "trusted": true,
        "_uuid": "b766bb21eb9a13e82144fb4e37bdffed1ea630ff"
      },
      "cell_type": "code",
      "source": "",
      "execution_count": null,
      "outputs": []
    }
  ],
  "metadata": {
    "kernelspec": {
      "display_name": "Python 3",
      "language": "python",
      "name": "python3"
    },
    "language_info": {
      "name": "python",
      "version": "3.6.6",
      "mimetype": "text/x-python",
      "codemirror_mode": {
        "name": "ipython",
        "version": 3
      },
      "pygments_lexer": "ipython3",
      "nbconvert_exporter": "python",
      "file_extension": ".py"
    }
  },
  "nbformat": 4,
  "nbformat_minor": 1
}