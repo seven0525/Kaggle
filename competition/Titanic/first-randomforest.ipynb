{
  "cells": [
    {
      "metadata": {
        "_uuid": "8f2839f25d086af736a60e9eeb907d3b93b6e0e5",
        "_cell_guid": "b1076dfc-b9ad-4769-8c92-a6c4dae69d19",
        "trusted": true
      },
      "cell_type": "code",
      "source": "# This Python 3 environment comes with many helpful analytics libraries installed\n# It is defined by the kaggle/python docker image: https://github.com/kaggle/docker-python\n# For example, here's several helpful packages to load in \n\nimport numpy as np # linear algebra\nimport pandas as pd # data processing, CSV file I/O (e.g. pd.read_csv)\n\n# Input data files are available in the \"../input/\" directory.\n# For example, running this (by clicking run or pressing Shift+Enter) will list the files in the input directory\n\nimport os\nprint(os.listdir(\"../input\"))\n\ndf_train = pd.read_csv(\"../input/train.csv\")\ndf_test = pd.read_csv(\"../input/test.csv\")\n\n\n# Any results you write to the current directory are saved as output.",
      "execution_count": null,
      "outputs": []
    },
    {
      "metadata": {
        "_cell_guid": "79c7e3d0-c299-4dcb-8224-4455121ee9b0",
        "collapsed": true,
        "_uuid": "d629ff2d2480ee46fbb7e2d37f6b5fab8052498a",
        "trusted": false,
        "_kg_hide-output": true
      },
      "cell_type": "markdown",
      "source": "# 前処理\n## 欠損値の処理"
    },
    {
      "metadata": {
        "trusted": true,
        "_uuid": "f29bf717910c4f32a992c66edb0fd5588f0025d8"
      },
      "cell_type": "code",
      "source": "#年齢の補完(nameTitleを使ってやるとなお良いと思う)\n#Titleから新しい特徴量を追加\n\n# mean_age = int(df_train[\"Age\"].mean())\n# print(mean_age)\n\ndf_train[\"Age\"] = df_train[\"Age\"].fillna(29)\ndf_test[\"Age\"] = df_test[\"Age\"].fillna(29)\n\n\n# df_test[df_test[\"Age\"].isnull()]\n    \n# df[\"Age\"] = np.where(df_test[\"Age\"].isnull,\n#                     np.where(\"Mr\" in df_test[\"Name\"],\n#                             32))\n    \n        \n        \n        \n# df_test[df_test[\"Age\"].isnull()]      ",
      "execution_count": null,
      "outputs": []
    },
    {
      "metadata": {
        "trusted": true,
        "_uuid": "c26ecaf4ebf4e67d6d02e8edc719803bed7b7217"
      },
      "cell_type": "code",
      "source": "#乗港した港の補完\ndf_train[df_train[\"Embarked\"].isnull()]\n# 同じticket番号の人他にいないか確認\ndf_test[df_test[\"Embarked\"]==\"113572\"]\n#一番多いSで埋める\ndf_train.loc[df_train[\"PassengerId\"].isin([62,830]),\"Embarked\"]=\"S\"\ndf_train.loc[df_train[\"PassengerId\"].isin([62,830])]",
      "execution_count": null,
      "outputs": []
    },
    {
      "metadata": {
        "trusted": true,
        "_uuid": "43841f9473bec2021b5081339a84683d7f5224d7"
      },
      "cell_type": "code",
      "source": "# 運賃の補完\ndf_train[[\"Pclass\",\"Fare\"]].groupby(\"Pclass\").mean()\n\ndf_test[df_test[\"Fare\"].isnull()]\n\ndf_test.loc[df_test[\"PassengerId\"]==1044,\"Fare\"]=13.675550\ndf_test.loc[df_test[\"PassengerId\"]==1044]",
      "execution_count": null,
      "outputs": []
    },
    {
      "metadata": {
        "trusted": true,
        "_uuid": "0cfaa2bd427d76a2a14c3bd58239f43cdc63c02d"
      },
      "cell_type": "code",
      "source": "print(df_train.isnull().sum())\nprint(df_test.isnull().sum())",
      "execution_count": null,
      "outputs": []
    },
    {
      "metadata": {
        "_uuid": "48234949ade09dbb6b626fc3b17f3e83f5bd0a28"
      },
      "cell_type": "markdown",
      "source": "## カテゴリ変数への変換"
    },
    {
      "metadata": {
        "trusted": true,
        "_uuid": "4b11ec2109280831746af8f3f5a6d0adef873b8e"
      },
      "cell_type": "code",
      "source": "#性別と乗港の変換（ダミー変数化）\ndf_train = pd.get_dummies(df_train, columns=[\"Sex\"])\ndf_test = pd.get_dummies(df_test, columns=[\"Sex\"])\n\ndf_train = pd.get_dummies(df_train, columns=[\"Embarked\"])\ndf_test = pd.get_dummies(df_test, columns=[\"Embarked\"])\n\ndf_train.head()",
      "execution_count": null,
      "outputs": []
    },
    {
      "metadata": {
        "_uuid": "add65ec3b5b2f300d52434eeb2df62b45a1261ef"
      },
      "cell_type": "markdown",
      "source": "## 不要な特徴量の削除"
    },
    {
      "metadata": {
        "trusted": true,
        "_uuid": "4de77cadca4ade12fb123a29fa6465e39736e6cc"
      },
      "cell_type": "code",
      "source": "df_train.drop([\"Name\",\"Cabin\",\"Ticket\"], axis=1, inplace=True)\ndf_test.drop([\"Name\",\"Cabin\",\"Ticket\"], axis=1, inplace=True)",
      "execution_count": null,
      "outputs": []
    },
    {
      "metadata": {
        "_uuid": "03040c657b09ab1bbbc9d4a76e6f5510ef41dee5"
      },
      "cell_type": "markdown",
      "source": "# ランダムフォレストで学習"
    },
    {
      "metadata": {
        "trusted": true,
        "_uuid": "a6967daeffac52aba63ad3b8bed0a8d3292ba98c"
      },
      "cell_type": "code",
      "source": "X_train = df_train.drop([\"PassengerId\", \"Survived\"], axis=1)\nY_train = df_train[\"Survived\"]\nX_test = df_test.drop(\"PassengerId\", axis=1).copy()",
      "execution_count": null,
      "outputs": []
    },
    {
      "metadata": {
        "trusted": true,
        "_uuid": "2c04d0f39bf49de8b1ddea9b808457fadd669f66"
      },
      "cell_type": "code",
      "source": "from sklearn.ensemble import RandomForestClassifier\n\nforest = RandomForestClassifier(random_state=1)\n\nforest.fit(X_train, Y_train)\n\nforest.score(X_train, Y_train)",
      "execution_count": null,
      "outputs": []
    },
    {
      "metadata": {
        "trusted": true,
        "_uuid": "08271f7a2741e61e5adf168514c0bacbffa1b003"
      },
      "cell_type": "code",
      "source": "# k分割交差検証を用いて学習\nfrom sklearn.model_selection import KFold\nfrom sklearn.metrics import accuracy_score\n\nkf = KFold(n_splits=3)\n\nfor train_index, test_index in kf.split(X_train, Y_train):\n    X_cv_train = X_train.iloc[train_index]\n    X_cv_test = X_train.iloc[test_index]\n    Y_cv_train = Y_train.iloc[train_index]\n    Y_cv_test = Y_train.iloc[test_index]\n    forest = RandomForestClassifier(random_state=1)\n    forest.fit(X_cv_train, Y_cv_train)\n    predictions = forest.predict(X_cv_test)\n    print(round(accuracy_score(Y_cv_test, forest.predict(X_cv_test))*100, 2))\n",
      "execution_count": null,
      "outputs": []
    },
    {
      "metadata": {
        "trusted": true,
        "_uuid": "3f5ca9aaa52a164a5fe45d8282944a62b8672455"
      },
      "cell_type": "code",
      "source": "#提出\nforest = RandomForestClassifier(random_state=1)\nforest.fit(X_train, Y_train)\nY_prediction = forest.predict(X_test)\nsubmission = pd.DataFrame({\n    \"PassengerId\": df_test[\"PassengerId\"],\n    \"Survived\": Y_prediction\n    })\nsubmission.to_csv(\"submission.csv\", index=False)",
      "execution_count": null,
      "outputs": []
    },
    {
      "metadata": {
        "trusted": true,
        "_uuid": "3e5d7743d3ba66d1bfcd77e064c91bccc35523b0"
      },
      "cell_type": "code",
      "source": "",
      "execution_count": null,
      "outputs": []
    }
  ],
  "metadata": {
    "kernelspec": {
      "display_name": "Python 3",
      "language": "python",
      "name": "python3"
    },
    "language_info": {
      "name": "python",
      "version": "3.6.6",
      "mimetype": "text/x-python",
      "codemirror_mode": {
        "name": "ipython",
        "version": 3
      },
      "pygments_lexer": "ipython3",
      "nbconvert_exporter": "python",
      "file_extension": ".py"
    }
  },
  "nbformat": 4,
  "nbformat_minor": 1
}