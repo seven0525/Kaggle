{
 "cells": [
  {
   "cell_type": "code",
   "execution_count": 31,
   "metadata": {},
   "outputs": [],
   "source": [
    "# 必要なライブラリを読み込み\n",
    "import numpy as np\n",
    "import pandas as pd\n",
    "import matplotlib.pyplot as plt\n",
    "% matplotlib inline"
   ]
  },
  {
   "cell_type": "code",
   "execution_count": 32,
   "metadata": {},
   "outputs": [],
   "source": [
    "# irisデータセットの読み込み\n",
    "# 品種: SetosaとVersicolour（線形分離可能）\n",
    "# 変数: petal lengthとpetal width\n",
    "from sklearn.datasets import load_iris\n",
    "iris = load_iris()\n",
    "X = iris.data\n",
    "y = iris.target"
   ]
  },
  {
   "cell_type": "code",
   "execution_count": 33,
   "metadata": {},
   "outputs": [],
   "source": [
    "# データの標準化\n",
    "from sklearn.preprocessing import StandardScaler\n",
    "scaler = StandardScaler()\n",
    "scaler.fit(X)\n",
    "X_std = scaler.transform(X)"
   ]
  },
  {
   "cell_type": "code",
   "execution_count": 37,
   "metadata": {},
   "outputs": [],
   "source": [
    "# ホールド・アウト法による分割\n",
    "from sklearn.model_selection import train_test_split\n",
    "X_train, X_test, y_train, y_test = train_test_split(X_std, y, test_size=0.3, random_state=0)"
   ]
  },
  {
   "cell_type": "code",
   "execution_count": 38,
   "metadata": {},
   "outputs": [
    {
     "data": {
      "text/plain": [
       "SVC(C=10, cache_size=200, class_weight=None, coef0=0.0,\n",
       "  decision_function_shape='ovr', degree=3, gamma=0.1, kernel='rbf',\n",
       "  max_iter=-1, probability=False, random_state=None, shrinking=True,\n",
       "  tol=0.001, verbose=False)"
      ]
     },
     "execution_count": 38,
     "metadata": {},
     "output_type": "execute_result"
    }
   ],
   "source": [
    "# カーネルSVMによる学習\n",
    "# C: 誤分類への厳しさ\n",
    "# gamma: 決定曲線の複雑さ\n",
    "rbf_svm = SVC(kernel='rbf', gamma=0.1, C=10)\n",
    "rbf_svm.fit(X_train, y_train)"
   ]
  },
  {
   "cell_type": "code",
   "execution_count": 39,
   "metadata": {},
   "outputs": [
    {
     "data": {
      "text/plain": [
       "0.9777777777777777"
      ]
     },
     "execution_count": 39,
     "metadata": {},
     "output_type": "execute_result"
    }
   ],
   "source": [
    "# 正答率を出力\n",
    "rbf_svm.score(X_test, y_test)"
   ]
  },
  {
   "cell_type": "code",
   "execution_count": 40,
   "metadata": {},
   "outputs": [],
   "source": [
    "# グリッドサーチ\n",
    "# 調整したいパラメータを指定\n",
    "param_grid = {'C': [0.1, 1.0, 10, 100, 1000, 10000],\n",
    "              'gamma': [0.001, 0.01, 0.1, 1, 10]}"
   ]
  },
  {
   "cell_type": "code",
   "execution_count": 41,
   "metadata": {},
   "outputs": [],
   "source": [
    "# データの分割方法を指定（層化）\n",
    "from sklearn.model_selection import StratifiedKFold\n",
    "kf_5 = StratifiedKFold(n_splits=5, shuffle=True, random_state=0)"
   ]
  },
  {
   "cell_type": "code",
   "execution_count": 42,
   "metadata": {},
   "outputs": [],
   "source": [
    "# GridSearchCVのインスタンスを生成\n",
    "from sklearn.model_selection import GridSearchCV\n",
    "from sklearn.svm import SVC\n",
    "# (モデルのインスタンス, 試したいパラメータの値, 分割方法)\n",
    "gs_svc = GridSearchCV(SVC(), param_grid, cv=kf_5)"
   ]
  },
  {
   "cell_type": "code",
   "execution_count": 49,
   "metadata": {},
   "outputs": [
    {
     "name": "stdout",
     "output_type": "stream",
     "text": [
      "best-parameters:{'C': 10, 'gamma': 0.1}\n",
      "mean-score:0.9619047619047619\n",
      "final-score:0.9777777777777777\n"
     ]
    }
   ],
   "source": [
    "# GridSearchCVを利用した学習\n",
    "# 最適なパラメータを自動で採用した分類器となる\n",
    "gs_svc.fit(X_train, y_train)\n",
    "# test精度の平均が最も高かった組み合わせを出力\n",
    "print(\"best-parameters:{}\".format(gs_svc.best_params_))\n",
    "# そのときのtest精度の平均を出力\n",
    "print(\"mean-score:{}\".format(gs_svc.best_score_))\n",
    "# ホールド・アウト法によるtest精度を出力\n",
    "print(\"final-score:{}\".format(gs_svc.score(X_test, y_test)))"
   ]
  },
  {
   "cell_type": "code",
   "execution_count": null,
   "metadata": {},
   "outputs": [],
   "source": []
  }
 ],
 "metadata": {
  "kernelspec": {
   "display_name": "Python 3",
   "language": "python",
   "name": "python3"
  },
  "language_info": {
   "codemirror_mode": {
    "name": "ipython",
    "version": 3
   },
   "file_extension": ".py",
   "mimetype": "text/x-python",
   "name": "python",
   "nbconvert_exporter": "python",
   "pygments_lexer": "ipython3",
   "version": "3.6.4"
  }
 },
 "nbformat": 4,
 "nbformat_minor": 2
}
