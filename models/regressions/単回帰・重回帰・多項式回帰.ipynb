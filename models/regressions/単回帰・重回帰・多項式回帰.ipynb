{
 "cells": [
  {
   "cell_type": "code",
   "execution_count": 3,
   "metadata": {
    "scrolled": true
   },
   "outputs": [],
   "source": [
    "# ライブラリのインポート\n",
    "import pandas as pd\n",
    "import numpy as np\n",
    "import matplotlib.pyplot as plt\n",
    "% matplotlib inline\n",
    "\n",
    "\n",
    "# 自由度調整済み決定係数\n",
    "# (決定係数, trainまたはtestのサンプル数, 利用した特徴量の数)\n",
    "def adjusted(score, n_sample, n_features):\n",
    "    adjusted_score = 1 - (1 - score) * ((n_sample - 1) / (n_sample - n_features - 1))\n",
    "    return adjusted_score"
   ]
  },
  {
   "cell_type": "code",
   "execution_count": 4,
   "metadata": {},
   "outputs": [],
   "source": [
    "# データセットを読み込み\n",
    "from sklearn.datasets import load_boston # bostonデータを格納したクラス\n",
    "boston = load_boston()                   # インスタンスを生成"
   ]
  },
  {
   "cell_type": "code",
   "execution_count": 5,
   "metadata": {},
   "outputs": [
    {
     "data": {
      "text/html": [
       "<div>\n",
       "<style scoped>\n",
       "    .dataframe tbody tr th:only-of-type {\n",
       "        vertical-align: middle;\n",
       "    }\n",
       "\n",
       "    .dataframe tbody tr th {\n",
       "        vertical-align: top;\n",
       "    }\n",
       "\n",
       "    .dataframe thead th {\n",
       "        text-align: right;\n",
       "    }\n",
       "</style>\n",
       "<table border=\"1\" class=\"dataframe\">\n",
       "  <thead>\n",
       "    <tr style=\"text-align: right;\">\n",
       "      <th></th>\n",
       "      <th>CRIM</th>\n",
       "      <th>ZN</th>\n",
       "      <th>INDUS</th>\n",
       "      <th>CHAS</th>\n",
       "      <th>NOX</th>\n",
       "      <th>RM</th>\n",
       "      <th>AGE</th>\n",
       "      <th>DIS</th>\n",
       "      <th>RAD</th>\n",
       "      <th>TAX</th>\n",
       "      <th>PTRATIO</th>\n",
       "      <th>B</th>\n",
       "      <th>LSTAT</th>\n",
       "      <th>MEDV</th>\n",
       "    </tr>\n",
       "  </thead>\n",
       "  <tbody>\n",
       "    <tr>\n",
       "      <th>0</th>\n",
       "      <td>0.00632</td>\n",
       "      <td>18.0</td>\n",
       "      <td>2.31</td>\n",
       "      <td>0.0</td>\n",
       "      <td>0.538</td>\n",
       "      <td>6.575</td>\n",
       "      <td>65.2</td>\n",
       "      <td>4.0900</td>\n",
       "      <td>1.0</td>\n",
       "      <td>296.0</td>\n",
       "      <td>15.3</td>\n",
       "      <td>396.90</td>\n",
       "      <td>4.98</td>\n",
       "      <td>24.0</td>\n",
       "    </tr>\n",
       "    <tr>\n",
       "      <th>1</th>\n",
       "      <td>0.02731</td>\n",
       "      <td>0.0</td>\n",
       "      <td>7.07</td>\n",
       "      <td>0.0</td>\n",
       "      <td>0.469</td>\n",
       "      <td>6.421</td>\n",
       "      <td>78.9</td>\n",
       "      <td>4.9671</td>\n",
       "      <td>2.0</td>\n",
       "      <td>242.0</td>\n",
       "      <td>17.8</td>\n",
       "      <td>396.90</td>\n",
       "      <td>9.14</td>\n",
       "      <td>21.6</td>\n",
       "    </tr>\n",
       "    <tr>\n",
       "      <th>2</th>\n",
       "      <td>0.02729</td>\n",
       "      <td>0.0</td>\n",
       "      <td>7.07</td>\n",
       "      <td>0.0</td>\n",
       "      <td>0.469</td>\n",
       "      <td>7.185</td>\n",
       "      <td>61.1</td>\n",
       "      <td>4.9671</td>\n",
       "      <td>2.0</td>\n",
       "      <td>242.0</td>\n",
       "      <td>17.8</td>\n",
       "      <td>392.83</td>\n",
       "      <td>4.03</td>\n",
       "      <td>34.7</td>\n",
       "    </tr>\n",
       "    <tr>\n",
       "      <th>3</th>\n",
       "      <td>0.03237</td>\n",
       "      <td>0.0</td>\n",
       "      <td>2.18</td>\n",
       "      <td>0.0</td>\n",
       "      <td>0.458</td>\n",
       "      <td>6.998</td>\n",
       "      <td>45.8</td>\n",
       "      <td>6.0622</td>\n",
       "      <td>3.0</td>\n",
       "      <td>222.0</td>\n",
       "      <td>18.7</td>\n",
       "      <td>394.63</td>\n",
       "      <td>2.94</td>\n",
       "      <td>33.4</td>\n",
       "    </tr>\n",
       "    <tr>\n",
       "      <th>4</th>\n",
       "      <td>0.06905</td>\n",
       "      <td>0.0</td>\n",
       "      <td>2.18</td>\n",
       "      <td>0.0</td>\n",
       "      <td>0.458</td>\n",
       "      <td>7.147</td>\n",
       "      <td>54.2</td>\n",
       "      <td>6.0622</td>\n",
       "      <td>3.0</td>\n",
       "      <td>222.0</td>\n",
       "      <td>18.7</td>\n",
       "      <td>396.90</td>\n",
       "      <td>5.33</td>\n",
       "      <td>36.2</td>\n",
       "    </tr>\n",
       "  </tbody>\n",
       "</table>\n",
       "</div>"
      ],
      "text/plain": [
       "      CRIM    ZN  INDUS  CHAS    NOX     RM   AGE     DIS  RAD    TAX  \\\n",
       "0  0.00632  18.0   2.31   0.0  0.538  6.575  65.2  4.0900  1.0  296.0   \n",
       "1  0.02731   0.0   7.07   0.0  0.469  6.421  78.9  4.9671  2.0  242.0   \n",
       "2  0.02729   0.0   7.07   0.0  0.469  7.185  61.1  4.9671  2.0  242.0   \n",
       "3  0.03237   0.0   2.18   0.0  0.458  6.998  45.8  6.0622  3.0  222.0   \n",
       "4  0.06905   0.0   2.18   0.0  0.458  7.147  54.2  6.0622  3.0  222.0   \n",
       "\n",
       "   PTRATIO       B  LSTAT  MEDV  \n",
       "0     15.3  396.90   4.98  24.0  \n",
       "1     17.8  396.90   9.14  21.6  \n",
       "2     17.8  392.83   4.03  34.7  \n",
       "3     18.7  394.63   2.94  33.4  \n",
       "4     18.7  396.90   5.33  36.2  "
      ]
     },
     "execution_count": 5,
     "metadata": {},
     "output_type": "execute_result"
    }
   ],
   "source": [
    "# Pandasのデータフレームに変換\n",
    "# (変数のarrya, 変数名を並べたリスト)\n",
    "df_data = pd.DataFrame(boston.data, columns=boston.feature_names)\n",
    "df_target = pd.DataFrame(boston.target, columns=['MEDV'])\n",
    "df = pd.concat([df_data, df_target], axis=1)\n",
    "df.head()"
   ]
  },
  {
   "cell_type": "markdown",
   "metadata": {},
   "source": [
    "# 単回帰"
   ]
  },
  {
   "cell_type": "code",
   "execution_count": 6,
   "metadata": {},
   "outputs": [],
   "source": [
    "X = df.loc[:, ['LSTAT']].values\n",
    "y = df.loc[:, ['MEDV']].values"
   ]
  },
  {
   "cell_type": "code",
   "execution_count": 7,
   "metadata": {},
   "outputs": [
    {
     "data": {
      "image/png": "[encoded data removed]",
      "text/plain": [
       "<matplotlib.figure.Figure at 0x1a0c83c630>"
      ]
     },
     "metadata": {},
     "output_type": "display_data"
    }
   ],
   "source": [
    "# 散布図を出力\n",
    "# 直線的な関係が確認できる\n",
    "import matplotlib.pyplot as plt\n",
    "% matplotlib inline             \n",
    "plt.scatter(X, y)                   # 散布図を表示\n",
    "plt.show()                          # 指定した内容でグラフを出力"
   ]
  },
  {
   "cell_type": "code",
   "execution_count": 8,
   "metadata": {},
   "outputs": [
    {
     "data": {
      "text/plain": [
       "LinearRegression(copy_X=True, fit_intercept=True, n_jobs=1, normalize=False)"
      ]
     },
     "execution_count": 8,
     "metadata": {},
     "output_type": "execute_result"
    }
   ],
   "source": [
    "# 線形回帰モデルのクラスを読み込み\n",
    "from sklearn.linear_model import LinearRegression\n",
    "\n",
    "# 線形回帰のインスタンスを生成\n",
    "lr = LinearRegression()\n",
    "\n",
    "# 単回帰モデルを学習\n",
    "lr.fit(X, y)"
   ]
  },
  {
   "cell_type": "code",
   "execution_count": 9,
   "metadata": {
    "scrolled": true
   },
   "outputs": [
    {
     "name": "stdout",
     "output_type": "stream",
     "text": [
      "train: 0.544\n"
     ]
    }
   ],
   "source": [
    "print('train: %.3f' % lr.score(X, y))"
   ]
  },
  {
   "cell_type": "code",
   "execution_count": 10,
   "metadata": {},
   "outputs": [
    {
     "name": "stdout",
     "output_type": "stream",
     "text": [
      "mean-score:0.5359257181816985\n",
      "標準偏差:0.061460304755239364\n"
     ]
    }
   ],
   "source": [
    "from sklearn.model_selection import KFold\n",
    "kf_3 = KFold(n_splits=5, shuffle=True, random_state=0)\n",
    "\n",
    "# 交差検証を実行\n",
    "# (モデル, 説明変数, 目的変数, 分割の方法)\n",
    "from sklearn.model_selection import cross_val_score\n",
    "scores_3 = cross_val_score(lr, X, y, cv=kf_3)\n",
    "\n",
    "# 交差検証精度の平均を出力\n",
    "print(\"mean-score:{}\".format(scores_3.mean()))\n",
    "\n",
    "# 交差検証精度の標準偏差を出力\n",
    "print(\"標準偏差:{}\".format(scores_3.std()))"
   ]
  },
  {
   "cell_type": "markdown",
   "metadata": {},
   "source": [
    "# 重回帰"
   ]
  },
  {
   "cell_type": "code",
   "execution_count": 11,
   "metadata": {},
   "outputs": [],
   "source": [
    "X = df.loc[:, ['LSTAT', 'RM']].values\n",
    "y = df.loc[:, ['MEDV']].values"
   ]
  },
  {
   "cell_type": "code",
   "execution_count": 12,
   "metadata": {},
   "outputs": [],
   "source": [
    "# ホールド・アウト法によるデータの分割\n",
    "# (X, y, テストにどの割合を割くか, 分割のしかたを決める乱数生成器)\n",
    "# テストデータの割合は、test_size引数に指定することで変更可能です（今回は、train:test = 7:3）\n",
    "from sklearn.model_selection import train_test_split\n",
    "X_train, X_test, y_train, y_test = train_test_split(X, y, test_size = 0.3, random_state = 0)"
   ]
  },
  {
   "cell_type": "code",
   "execution_count": 13,
   "metadata": {},
   "outputs": [],
   "source": [
    "# 重回帰の線形回帰を実行\n",
    "from sklearn.linear_model import LinearRegression\n",
    "lr = LinearRegression()"
   ]
  },
  {
   "cell_type": "code",
   "execution_count": 14,
   "metadata": {},
   "outputs": [
    {
     "data": {
      "text/plain": [
       "LinearRegression(copy_X=True, fit_intercept=True, n_jobs=1, normalize=False)"
      ]
     },
     "execution_count": 14,
     "metadata": {},
     "output_type": "execute_result"
    }
   ],
   "source": [
    "# 重回帰線形モデルの学習\n",
    "# trainデータのみを用いていることに注意\n",
    "lr.fit(X_train, y_train)"
   ]
  },
  {
   "cell_type": "code",
   "execution_count": 15,
   "metadata": {},
   "outputs": [],
   "source": [
    "# 自由度調整済み決定係数\n",
    "# (決定係数, trainまたはtestのサンプル数, 利用した特徴量の数)\n",
    "def adjusted(score, n_sample, n_features):\n",
    "    adjusted_score = 1 - (1 - score) * ((n_sample - 1) / (n_sample - n_features - 1))\n",
    "    return adjusted_score"
   ]
  },
  {
   "cell_type": "code",
   "execution_count": 16,
   "metadata": {},
   "outputs": [
    {
     "name": "stdout",
     "output_type": "stream",
     "text": [
      "adjusted R^2\n",
      "train: 0.648955\n",
      "test : 0.601704\n"
     ]
    }
   ],
   "source": [
    "# 自由度調整済み決定係数を出力\n",
    "print('adjusted R^2')\n",
    "print('train: %3f' % adjusted(lr.score(X_train, y_train), len(y_train), 2))\n",
    "print('test : %3f' % adjusted(lr.score(X_test, y_test), len(y_test), 2))"
   ]
  },
  {
   "cell_type": "code",
   "execution_count": 25,
   "metadata": {},
   "outputs": [
    {
     "name": "stdout",
     "output_type": "stream",
     "text": [
      "mean-score:0.6232497111077301\n",
      "標準偏差:0.08335109518518222\n"
     ]
    }
   ],
   "source": [
    "from sklearn.model_selection import KFold\n",
    "kf_3 = KFold(n_splits=5, shuffle=True, random_state=0)\n",
    "\n",
    "# 交差検証を実行\n",
    "# (モデル, 説明変数, 目的変数, 分割の方法)\n",
    "from sklearn.model_selection import cross_val_score\n",
    "scores_3 = cross_val_score(lr, X, y, cv=kf_3)\n",
    "\n",
    "# 交差検証精度の平均を出力\n",
    "print(\"mean-score:{}\".format(scores_3.mean()))\n",
    "\n",
    "# 交差検証精度の標準偏差を出力\n",
    "print(\"標準偏差:{}\".format(scores_3.std()))"
   ]
  },
  {
   "cell_type": "markdown",
   "metadata": {},
   "source": [
    "# 多項式回帰(2次関数)"
   ]
  },
  {
   "cell_type": "code",
   "execution_count": 26,
   "metadata": {},
   "outputs": [
    {
     "data": {
      "text/plain": [
       "array([[ 1.      ,  4.98    ,  6.575   , 24.8004  , 32.7435  , 43.230625],\n",
       "       [ 1.      ,  9.14    ,  6.421   , 83.5396  , 58.68794 , 41.229241],\n",
       "       [ 1.      ,  4.03    ,  7.185   , 16.2409  , 28.95555 , 51.624225],\n",
       "       ...,\n",
       "       [ 1.      ,  5.64    ,  6.976   , 31.8096  , 39.34464 , 48.664576],\n",
       "       [ 1.      ,  6.48    ,  6.794   , 41.9904  , 44.02512 , 46.158436],\n",
       "       [ 1.      ,  7.88    ,  6.03    , 62.0944  , 47.5164  , 36.3609  ]])"
      ]
     },
     "execution_count": 26,
     "metadata": {},
     "output_type": "execute_result"
    }
   ],
   "source": [
    "X = df.loc[:, ['LSTAT', 'RM']].values\n",
    "y = df.loc[:, ['MEDV']].values\n",
    "\n",
    "# 2次関数の変数変換\n",
    "from sklearn.preprocessing import PolynomialFeatures\n",
    "quad = PolynomialFeatures(degree=2)    # 2次の多項式基底を生成\n",
    "lstat_quad = quad.fit_transform(X) # 生成した基底関数で変数変換を実行\n",
    "lstat_quad"
   ]
  },
  {
   "cell_type": "code",
   "execution_count": 27,
   "metadata": {},
   "outputs": [],
   "source": [
    "# ホールド・アウト法によるデータの分割\n",
    "# random_stateを0に固定してあるので､毎回同じサンプルに分割\n",
    "from sklearn.model_selection import train_test_split\n",
    "lstat_train, lstat_test, y_train, y_test = train_test_split(X, y, test_size = 0.3, random_state = 0)\n",
    "\n",
    "lstat_quad_train, lstat_quad_test, _, _ = train_test_split(lstat_quad, y, test_size = 0.3, random_state = 0)"
   ]
  },
  {
   "cell_type": "code",
   "execution_count": 28,
   "metadata": {},
   "outputs": [
    {
     "data": {
      "text/plain": [
       "LinearRegression(copy_X=True, fit_intercept=True, n_jobs=1, normalize=False)"
      ]
     },
     "execution_count": 28,
     "metadata": {},
     "output_type": "execute_result"
    }
   ],
   "source": [
    "from sklearn.linear_model import LinearRegression\n",
    "\n",
    "# 線形回帰のインスタンスを生成\n",
    "model_quad = LinearRegression()\n",
    "\n",
    "# 変換後の変数を利用して実行\n",
    "model_quad.fit(lstat_quad_train, y_train)"
   ]
  },
  {
   "cell_type": "code",
   "execution_count": 29,
   "metadata": {
    "scrolled": true
   },
   "outputs": [
    {
     "name": "stdout",
     "output_type": "stream",
     "text": [
      "adjusted R^2\n",
      "train: 0.772\n",
      "test : 0.710\n",
      "\n"
     ]
    }
   ],
   "source": [
    "# 自由度調整済み決定係数を出力\n",
    "print('adjusted R^2')\n",
    "print('train: %.3f' % adjusted(model_quad.score(lstat_quad_train, y_train), len(y_train), 2))\n",
    "print('test : %.3f' % adjusted(model_quad.score(lstat_quad_test, y_test), len(y_test), 2))\n",
    "print('')"
   ]
  },
  {
   "cell_type": "code",
   "execution_count": 30,
   "metadata": {},
   "outputs": [
    {
     "name": "stdout",
     "output_type": "stream",
     "text": [
      "mean-score:0.6232497111077301\n",
      "標準偏差:0.08335109518518222\n"
     ]
    }
   ],
   "source": [
    "from sklearn.model_selection import KFold\n",
    "kf_3 = KFold(n_splits=5, shuffle=True, random_state=0)\n",
    "\n",
    "# 交差検証を実行\n",
    "# (モデル, 説明変数, 目的変数, 分割の方法)\n",
    "from sklearn.model_selection import cross_val_score\n",
    "scores_3 = cross_val_score(model_quad, X, y, cv=kf_3)\n",
    "\n",
    "# 交差検証精度の平均を出力\n",
    "print(\"mean-score:{}\".format(scores_3.mean()))\n",
    "\n",
    "# 交差検証精度の標準偏差を出力\n",
    "print(\"標準偏差:{}\".format(scores_3.std()))"
   ]
  },
  {
   "cell_type": "markdown",
   "metadata": {},
   "source": [
    "# 多項式（3次関数）"
   ]
  },
  {
   "cell_type": "code",
   "execution_count": 31,
   "metadata": {},
   "outputs": [
    {
     "data": {
      "text/plain": [
       "array([[  1.        ,   4.98      ,   6.575     , ..., 163.06263   ,\n",
       "        215.2885125 , 284.24135938],\n",
       "       [  1.        ,   9.14      ,   6.421     , ..., 536.4077716 ,\n",
       "        376.83526274, 264.73295646],\n",
       "       [  1.        ,   4.03      ,   7.185     , ..., 116.6908665 ,\n",
       "        208.04562675, 370.92005662],\n",
       "       ...,\n",
       "       [  1.        ,   5.64      ,   6.976     , ..., 221.9037696 ,\n",
       "        274.46820864, 339.48408218],\n",
       "       [  1.        ,   6.48      ,   6.794     , ..., 285.2827776 ,\n",
       "        299.10666528, 313.60041418],\n",
       "       [  1.        ,   7.88      ,   6.03      , ..., 374.429232  ,\n",
       "        286.523892  , 219.256227  ]])"
      ]
     },
     "execution_count": 31,
     "metadata": {},
     "output_type": "execute_result"
    }
   ],
   "source": [
    "X = df.loc[:, ['LSTAT', 'RM']].values\n",
    "y = df.loc[:, ['MEDV']].values\n",
    "\n",
    "# 3次関数の変数変換\n",
    "cubic = PolynomialFeatures(degree=3)     # 3次の多項式規定を生成\n",
    "lstat_cubic = cubic.fit_transform(X) # 生成した基底関数で変数変換を実行\n",
    "lstat_cubic"
   ]
  },
  {
   "cell_type": "code",
   "execution_count": 32,
   "metadata": {},
   "outputs": [],
   "source": [
    "# ホールド・アウト法による分割\n",
    "lstat_cubic_train, lstat_cubic_test, _, _ = train_test_split(lstat_cubic, y, test_size = 0.3, random_state = 0)"
   ]
  },
  {
   "cell_type": "code",
   "execution_count": 33,
   "metadata": {},
   "outputs": [
    {
     "data": {
      "text/plain": [
       "LinearRegression(copy_X=True, fit_intercept=True, n_jobs=1, normalize=False)"
      ]
     },
     "execution_count": 33,
     "metadata": {},
     "output_type": "execute_result"
    }
   ],
   "source": [
    "# 線形回帰のインスタンスを生成\n",
    "model_cubic = LinearRegression()\n",
    "\n",
    "# 変換後の変数を利用して実行\n",
    "model_cubic.fit(lstat_cubic_train, y_train)"
   ]
  },
  {
   "cell_type": "code",
   "execution_count": 34,
   "metadata": {},
   "outputs": [
    {
     "name": "stdout",
     "output_type": "stream",
     "text": [
      "train: 0.790\n",
      "test : 0.704\n"
     ]
    }
   ],
   "source": [
    "print('train: %.3f' % adjusted(model_cubic.score(lstat_cubic_train, y_train), len(y_train), 3))\n",
    "print('test : %.3f' % adjusted(model_cubic.score(lstat_cubic_test, y_test), len(y_test), 3))"
   ]
  },
  {
   "cell_type": "code",
   "execution_count": 40,
   "metadata": {
    "scrolled": true
   },
   "outputs": [
    {
     "name": "stdout",
     "output_type": "stream",
     "text": [
      "mean-score:0.5484014317123208\n",
      "標準偏差:0.40787277969172603\n"
     ]
    }
   ],
   "source": [
    "from sklearn.model_selection import KFold\n",
    "kf_3 = KFold(n_splits=5, shuffle=True, random_state=0)\n",
    "\n",
    "# 交差検証を実行\n",
    "# (モデル, 説明変数, 目的変数, 分割の方法)\n",
    "from sklearn.model_selection import cross_val_score\n",
    "scores_3 = cross_val_score(model_cubic, lstat_cubic_train, y_train, cv=kf_3)\n",
    "\n",
    "# 交差検証精度の平均を出力\n",
    "print(\"mean-score:{}\".format(scores_3.mean()))\n",
    "\n",
    "# 交差検証精度の標準偏差を出力\n",
    "print(\"標準偏差:{}\".format(scores_3.std()))"
   ]
  },
  {
   "cell_type": "code",
   "execution_count": null,
   "metadata": {},
   "outputs": [],
   "source": []
  }
 ],
 "metadata": {
  "kernelspec": {
   "display_name": "Python 3",
   "language": "python",
   "name": "python3"
  },
  "language_info": {
   "codemirror_mode": {
    "name": "ipython",
    "version": 3
   },
   "file_extension": ".py",
   "mimetype": "text/x-python",
   "name": "python",
   "nbconvert_exporter": "python",
   "pygments_lexer": "ipython3",
   "version": "3.6.4"
  }
 },
 "nbformat": 4,
 "nbformat_minor": 2
}
